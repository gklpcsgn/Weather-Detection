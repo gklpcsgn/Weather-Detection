{
 "cells": [
  {
   "cell_type": "code",
   "execution_count": 1,
   "metadata": {},
   "outputs": [],
   "source": [
    "%run Preprocessing.py"
   ]
  },
  {
   "cell_type": "code",
   "execution_count": 2,
   "metadata": {},
   "outputs": [],
   "source": [
    "import pandas as pd\n",
    "import numpy as np\n",
    "import matplotlib.pyplot as plt\n",
    "import seaborn as sns\n",
    "from sklearn.model_selection import train_test_split\n",
    "from sklearn.preprocessing import StandardScaler\n",
    "from sklearn.decomposition import PCA\n",
    "from sklearn.linear_model import LogisticRegression\n",
    "#read the data\n",
    "df = pd.read_csv('austin_weather.csv')\n",
    "X_train, X_test, y_train, y_test, X_val, y_val = preprocess(df)"
   ]
  },
  {
   "cell_type": "code",
   "execution_count": 3,
   "metadata": {},
   "outputs": [],
   "source": [
    "from sklearn.ensemble import AdaBoostClassifier\n",
    "from sklearn.ensemble import GradientBoostingClassifier\n",
    "#apply xgboost\n",
    "from xgboost import XGBClassifier"
   ]
  },
  {
   "cell_type": "code",
   "execution_count": 4,
   "metadata": {},
   "outputs": [],
   "source": [
    "from sklearn.metrics import accuracy_score,precision_score,recall_score,f1_score\n",
    "\n",
    "def get_metrics(model, X, y):\n",
    "    y_pred = model.predict(X)\n",
    "    from sklearn.metrics import classification_report\n",
    "    class_rep = classification_report(y, model.predict(X))\n",
    "    class_rep = class_rep.split()\n",
    "    weighted_avg = class_rep[-5:]\n",
    "\n",
    "    from sklearn.metrics import accuracy_score\n",
    "    acc = accuracy_score(y, model.predict(X_val))\n",
    "    return acc,weighted_avg[1], weighted_avg[2], weighted_avg[3]"
   ]
  },
  {
   "cell_type": "code",
   "execution_count": 5,
   "metadata": {},
   "outputs": [],
   "source": [
    "# Create the model with 100 trees\n",
    "model_xgbc = XGBClassifier(n_estimators=150, learning_rate=0.1, max_depth=3, random_state=101)\n",
    "# Fit on training data\n",
    "model_xgbc.fit(X_train, y_train[[\"Rain\"]])\n",
    "\n",
    "rain_model_xgbc_metrics = get_metrics(model_xgbc, X_val, y_val[[\"Rain\"]])\n",
    "\n",
    "\n"
   ]
  },
  {
   "cell_type": "code",
   "execution_count": 6,
   "metadata": {},
   "outputs": [
    {
     "name": "stderr",
     "output_type": "stream",
     "text": [
      "/home/berkay/anaconda3/envs/470env/lib/python3.8/site-packages/sklearn/utils/validation.py:1111: DataConversionWarning: A column-vector y was passed when a 1d array was expected. Please change the shape of y to (n_samples, ), for example using ravel().\n",
      "  y = column_or_1d(y, warn=True)\n",
      "/home/berkay/anaconda3/envs/470env/lib/python3.8/site-packages/sklearn/ensemble/_gb.py:570: DataConversionWarning: A column-vector y was passed when a 1d array was expected. Please change the shape of y to (n_samples, ), for example using ravel().\n",
      "  y = column_or_1d(y, warn=True)\n"
     ]
    },
    {
     "data": {
      "text/html": [
       "<div>\n",
       "<style scoped>\n",
       "    .dataframe tbody tr th:only-of-type {\n",
       "        vertical-align: middle;\n",
       "    }\n",
       "\n",
       "    .dataframe tbody tr th {\n",
       "        vertical-align: top;\n",
       "    }\n",
       "\n",
       "    .dataframe thead th {\n",
       "        text-align: right;\n",
       "    }\n",
       "</style>\n",
       "<table border=\"1\" class=\"dataframe\">\n",
       "  <thead>\n",
       "    <tr style=\"text-align: right;\">\n",
       "      <th></th>\n",
       "      <th>Model</th>\n",
       "      <th>Accuracy</th>\n",
       "      <th>Precision</th>\n",
       "      <th>Recall</th>\n",
       "      <th>F1</th>\n",
       "    </tr>\n",
       "  </thead>\n",
       "  <tbody>\n",
       "    <tr>\n",
       "      <th>1</th>\n",
       "      <td>GradientBoostingClassifier</td>\n",
       "      <td>0.959596</td>\n",
       "      <td>0.96</td>\n",
       "      <td>0.96</td>\n",
       "      <td>0.96</td>\n",
       "    </tr>\n",
       "    <tr>\n",
       "      <th>2</th>\n",
       "      <td>XGBClassifier</td>\n",
       "      <td>0.954545</td>\n",
       "      <td>0.96</td>\n",
       "      <td>0.95</td>\n",
       "      <td>0.95</td>\n",
       "    </tr>\n",
       "    <tr>\n",
       "      <th>0</th>\n",
       "      <td>AdaBoostClassifier</td>\n",
       "      <td>0.944444</td>\n",
       "      <td>0.95</td>\n",
       "      <td>0.94</td>\n",
       "      <td>0.94</td>\n",
       "    </tr>\n",
       "  </tbody>\n",
       "</table>\n",
       "</div>"
      ],
      "text/plain": [
       "                        Model  Accuracy Precision Recall    F1\n",
       "1  GradientBoostingClassifier  0.959596      0.96   0.96  0.96\n",
       "2               XGBClassifier  0.954545      0.96   0.95  0.95\n",
       "0          AdaBoostClassifier  0.944444      0.95   0.94  0.94"
      ]
     },
     "execution_count": 6,
     "metadata": {},
     "output_type": "execute_result"
    }
   ],
   "source": [
    "#create adaboost model\n",
    "model_ada = AdaBoostClassifier(n_estimators=150, random_state=101)\n",
    "model_ada.fit(X_train, y_train[[\"Rain\"]])\n",
    "\n",
    "rain_model_ada_metrics = get_metrics(model_ada, X_val, y_val[[\"Rain\"]])\n",
    "\n",
    "#create gradientboost model\n",
    "model_gbc = GradientBoostingClassifier(n_estimators=150, random_state=101)\n",
    "model_gbc.fit(X_train, y_train[[\"Rain\"]])\n",
    "\n",
    "rain_model_gbc_metrics = get_metrics(model_gbc, X_val, y_val[[\"Rain\"]])\n",
    "\n",
    "#compare the models\n",
    "models = pd.DataFrame({\n",
    "    'Model': ['AdaBoostClassifier', 'GradientBoostingClassifier', 'XGBClassifier'],\n",
    "    'Accuracy': [rain_model_ada_metrics[0], rain_model_gbc_metrics[0], rain_model_xgbc_metrics[0]],\n",
    "    'Precision': [rain_model_ada_metrics[1], rain_model_gbc_metrics[1], rain_model_xgbc_metrics[1]],\n",
    "    'Recall': [rain_model_ada_metrics[2], rain_model_gbc_metrics[2], rain_model_xgbc_metrics[2]],\n",
    "    'F1': [rain_model_ada_metrics[3], rain_model_gbc_metrics[3], rain_model_xgbc_metrics[3]]})\n",
    "models.sort_values(by='Accuracy', ascending=False)"
   ]
  },
  {
   "cell_type": "code",
   "execution_count": 7,
   "metadata": {},
   "outputs": [
    {
     "name": "stderr",
     "output_type": "stream",
     "text": [
      "/home/berkay/anaconda3/envs/470env/lib/python3.8/site-packages/sklearn/utils/validation.py:1111: DataConversionWarning: A column-vector y was passed when a 1d array was expected. Please change the shape of y to (n_samples, ), for example using ravel().\n",
      "  y = column_or_1d(y, warn=True)\n",
      "/home/berkay/anaconda3/envs/470env/lib/python3.8/site-packages/sklearn/ensemble/_gb.py:570: DataConversionWarning: A column-vector y was passed when a 1d array was expected. Please change the shape of y to (n_samples, ), for example using ravel().\n",
      "  y = column_or_1d(y, warn=True)\n"
     ]
    },
    {
     "data": {
      "text/html": [
       "<div>\n",
       "<style scoped>\n",
       "    .dataframe tbody tr th:only-of-type {\n",
       "        vertical-align: middle;\n",
       "    }\n",
       "\n",
       "    .dataframe tbody tr th {\n",
       "        vertical-align: top;\n",
       "    }\n",
       "\n",
       "    .dataframe thead th {\n",
       "        text-align: right;\n",
       "    }\n",
       "</style>\n",
       "<table border=\"1\" class=\"dataframe\">\n",
       "  <thead>\n",
       "    <tr style=\"text-align: right;\">\n",
       "      <th></th>\n",
       "      <th>Model</th>\n",
       "      <th>Accuracy</th>\n",
       "      <th>Precision</th>\n",
       "      <th>Recall</th>\n",
       "      <th>F1</th>\n",
       "    </tr>\n",
       "  </thead>\n",
       "  <tbody>\n",
       "    <tr>\n",
       "      <th>0</th>\n",
       "      <td>AdaBoostClassifier</td>\n",
       "      <td>1.0</td>\n",
       "      <td>1.00</td>\n",
       "      <td>1.00</td>\n",
       "      <td>1.00</td>\n",
       "    </tr>\n",
       "    <tr>\n",
       "      <th>1</th>\n",
       "      <td>GradientBoostingClassifier</td>\n",
       "      <td>1.0</td>\n",
       "      <td>1.00</td>\n",
       "      <td>1.00</td>\n",
       "      <td>1.00</td>\n",
       "    </tr>\n",
       "    <tr>\n",
       "      <th>2</th>\n",
       "      <td>XGBClassifier</td>\n",
       "      <td>1.0</td>\n",
       "      <td>1.00</td>\n",
       "      <td>1.00</td>\n",
       "      <td>1.00</td>\n",
       "    </tr>\n",
       "  </tbody>\n",
       "</table>\n",
       "</div>"
      ],
      "text/plain": [
       "                        Model  Accuracy Precision Recall    F1\n",
       "0          AdaBoostClassifier       1.0      1.00   1.00  1.00\n",
       "1  GradientBoostingClassifier       1.0      1.00   1.00  1.00\n",
       "2               XGBClassifier       1.0      1.00   1.00  1.00"
      ]
     },
     "execution_count": 7,
     "metadata": {},
     "output_type": "execute_result"
    }
   ],
   "source": [
    "#create the previous model for fog column\n",
    "model_xgbc = XGBClassifier(n_estimators=150, learning_rate=0.1, max_depth=3, random_state=101)\n",
    "# Fit on training data\n",
    "model_xgbc.fit(X_train, y_train[[\"Fog\"]])\n",
    "\n",
    "fog_model_xgbc_metrics = get_metrics(model_xgbc, X_val, y_val[[\"Fog\"]])\n",
    "\n",
    "model_ada = AdaBoostClassifier(n_estimators=150, random_state=101)\n",
    "model_ada.fit(X_train, y_train[[\"Fog\"]])\n",
    "\n",
    "fog_model_ada_metrics = get_metrics(model_ada, X_val, y_val[[\"Fog\"]])\n",
    "\n",
    "#create gradientboost model\n",
    "model_gbc = GradientBoostingClassifier(n_estimators=150, random_state=101)\n",
    "model_gbc.fit(X_train, y_train[[\"Fog\"]])\n",
    "\n",
    "fog_model_gbc_metrics = get_metrics(model_gbc, X_val, y_val[[\"Fog\"]])\n",
    "\n",
    "#compare the models\n",
    "models = pd.DataFrame({\n",
    "    'Model': ['AdaBoostClassifier', 'GradientBoostingClassifier', 'XGBClassifier'],\n",
    "    'Accuracy': [fog_model_ada_metrics[0], fog_model_gbc_metrics[0], fog_model_xgbc_metrics[0]],\n",
    "    'Precision': [fog_model_ada_metrics[1], fog_model_gbc_metrics[1], fog_model_xgbc_metrics[1]],\n",
    "    'Recall': [fog_model_ada_metrics[2], fog_model_gbc_metrics[2], fog_model_xgbc_metrics[2]],\n",
    "    'F1': [fog_model_ada_metrics[3], fog_model_gbc_metrics[3], fog_model_xgbc_metrics[3]]})\n",
    "models.sort_values(by='Accuracy', ascending=False)\n"
   ]
  },
  {
   "cell_type": "code",
   "execution_count": 8,
   "metadata": {},
   "outputs": [
    {
     "name": "stderr",
     "output_type": "stream",
     "text": [
      "/home/berkay/anaconda3/envs/470env/lib/python3.8/site-packages/sklearn/utils/validation.py:1111: DataConversionWarning: A column-vector y was passed when a 1d array was expected. Please change the shape of y to (n_samples, ), for example using ravel().\n",
      "  y = column_or_1d(y, warn=True)\n",
      "/home/berkay/anaconda3/envs/470env/lib/python3.8/site-packages/sklearn/ensemble/_gb.py:570: DataConversionWarning: A column-vector y was passed when a 1d array was expected. Please change the shape of y to (n_samples, ), for example using ravel().\n",
      "  y = column_or_1d(y, warn=True)\n"
     ]
    },
    {
     "data": {
      "text/html": [
       "<div>\n",
       "<style scoped>\n",
       "    .dataframe tbody tr th:only-of-type {\n",
       "        vertical-align: middle;\n",
       "    }\n",
       "\n",
       "    .dataframe tbody tr th {\n",
       "        vertical-align: top;\n",
       "    }\n",
       "\n",
       "    .dataframe thead th {\n",
       "        text-align: right;\n",
       "    }\n",
       "</style>\n",
       "<table border=\"1\" class=\"dataframe\">\n",
       "  <thead>\n",
       "    <tr style=\"text-align: right;\">\n",
       "      <th></th>\n",
       "      <th>Model</th>\n",
       "      <th>Accuracy</th>\n",
       "      <th>Precision</th>\n",
       "      <th>Recall</th>\n",
       "      <th>F1</th>\n",
       "    </tr>\n",
       "  </thead>\n",
       "  <tbody>\n",
       "    <tr>\n",
       "      <th>1</th>\n",
       "      <td>GradientBoostingClassifier</td>\n",
       "      <td>0.888889</td>\n",
       "      <td>0.88</td>\n",
       "      <td>0.89</td>\n",
       "      <td>0.88</td>\n",
       "    </tr>\n",
       "    <tr>\n",
       "      <th>2</th>\n",
       "      <td>XGBClassifier</td>\n",
       "      <td>0.883838</td>\n",
       "      <td>0.87</td>\n",
       "      <td>0.88</td>\n",
       "      <td>0.87</td>\n",
       "    </tr>\n",
       "    <tr>\n",
       "      <th>0</th>\n",
       "      <td>AdaBoostClassifier</td>\n",
       "      <td>0.868687</td>\n",
       "      <td>0.86</td>\n",
       "      <td>0.87</td>\n",
       "      <td>0.86</td>\n",
       "    </tr>\n",
       "  </tbody>\n",
       "</table>\n",
       "</div>"
      ],
      "text/plain": [
       "                        Model  Accuracy Precision Recall    F1\n",
       "1  GradientBoostingClassifier  0.888889      0.88   0.89  0.88\n",
       "2               XGBClassifier  0.883838      0.87   0.88  0.87\n",
       "0          AdaBoostClassifier  0.868687      0.86   0.87  0.86"
      ]
     },
     "execution_count": 8,
     "metadata": {},
     "output_type": "execute_result"
    }
   ],
   "source": [
    "#create the previous model for fog column\n",
    "model_xgbc = XGBClassifier(n_estimators=150, learning_rate=0.1, max_depth=3, random_state=101)\n",
    "# Fit on training data\n",
    "model_xgbc.fit(X_train, y_train[[\"Thunderstorm\"]])\n",
    "\n",
    "thunderstrom_model_xgbc_metrics = get_metrics(model_xgbc, X_val, y_val[[\"Thunderstorm\"]])\n",
    "\n",
    "model_ada = AdaBoostClassifier(n_estimators=150, random_state=101)\n",
    "model_ada.fit(X_train, y_train[[\"Thunderstorm\"]])\n",
    "\n",
    "thunderstrom_model_ada_metrics = get_metrics(model_ada, X_val, y_val[[\"Thunderstorm\"]])\n",
    "\n",
    "#create gradientboost model\n",
    "model_gbc = GradientBoostingClassifier(n_estimators=150, random_state=101)\n",
    "model_gbc.fit(X_train, y_train[[\"Thunderstorm\"]])\n",
    "\n",
    "thunderstrom_model_gbc_metrics = get_metrics(model_gbc, X_val, y_val[[\"Thunderstorm\"]])\n",
    "\n",
    "#compare the models\n",
    "models = pd.DataFrame({\n",
    "    'Model': ['AdaBoostClassifier', 'GradientBoostingClassifier', 'XGBClassifier'],\n",
    "    'Accuracy': [thunderstrom_model_ada_metrics[0], thunderstrom_model_gbc_metrics[0], thunderstrom_model_xgbc_metrics[0]],\n",
    "    'Precision': [thunderstrom_model_ada_metrics[1], thunderstrom_model_gbc_metrics[1], thunderstrom_model_xgbc_metrics[1]],\n",
    "    'Recall': [thunderstrom_model_ada_metrics[2], thunderstrom_model_gbc_metrics[2], thunderstrom_model_xgbc_metrics[2]],\n",
    "    'F1': [thunderstrom_model_ada_metrics[3], thunderstrom_model_gbc_metrics[3], thunderstrom_model_xgbc_metrics[3]]})\n",
    "\n",
    "models.sort_values(by='Accuracy', ascending=False)"
   ]
  },
  {
   "cell_type": "code",
   "execution_count": null,
   "metadata": {},
   "outputs": [],
   "source": []
  }
 ],
 "metadata": {
  "kernelspec": {
   "display_name": "Python 3.8.13 ('470env')",
   "language": "python",
   "name": "python3"
  },
  "language_info": {
   "codemirror_mode": {
    "name": "ipython",
    "version": 3
   },
   "file_extension": ".py",
   "mimetype": "text/x-python",
   "name": "python",
   "nbconvert_exporter": "python",
   "pygments_lexer": "ipython3",
   "version": "3.8.13"
  },
  "orig_nbformat": 4,
  "vscode": {
   "interpreter": {
    "hash": "324c55806ae165ac3a0b860b349bedccf1968559549a1f09eaf97868d628c031"
   }
  }
 },
 "nbformat": 4,
 "nbformat_minor": 2
}
