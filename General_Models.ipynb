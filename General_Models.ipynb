{
 "cells": [
  {
   "cell_type": "code",
   "execution_count": 45,
   "metadata": {},
   "outputs": [],
   "source": [
    "import pandas as pd\n",
    "import numpy as np\n",
    "import warnings \n",
    "warnings.filterwarnings('ignore')"
   ]
  },
  {
   "cell_type": "code",
   "execution_count": 46,
   "metadata": {},
   "outputs": [],
   "source": [
    "%run Preprocessing.py"
   ]
  },
  {
   "cell_type": "code",
   "execution_count": 47,
   "metadata": {},
   "outputs": [],
   "source": [
    "df = pd.read_csv(\"austin_weather.csv\")"
   ]
  },
  {
   "cell_type": "code",
   "execution_count": 48,
   "metadata": {},
   "outputs": [],
   "source": [
    "X_train, X_test, y_train, y_test, X_val, y_val = preprocess(df)"
   ]
  },
  {
   "cell_type": "code",
   "execution_count": 49,
   "metadata": {},
   "outputs": [],
   "source": [
    "# We will train for Rain first\n",
    "y_train_rain = y_train[\"Rain\"]\n",
    "y_val_rain = y_val[\"Rain\"]"
   ]
  },
  {
   "cell_type": "code",
   "execution_count": 50,
   "metadata": {},
   "outputs": [
    {
     "data": {
      "text/html": [
       "<div>\n",
       "<style scoped>\n",
       "    .dataframe tbody tr th:only-of-type {\n",
       "        vertical-align: middle;\n",
       "    }\n",
       "\n",
       "    .dataframe tbody tr th {\n",
       "        vertical-align: top;\n",
       "    }\n",
       "\n",
       "    .dataframe thead th {\n",
       "        text-align: right;\n",
       "    }\n",
       "</style>\n",
       "<table border=\"1\" class=\"dataframe\">\n",
       "  <thead>\n",
       "    <tr style=\"text-align: right;\">\n",
       "      <th></th>\n",
       "      <th>Model</th>\n",
       "      <th>Accuracy</th>\n",
       "    </tr>\n",
       "  </thead>\n",
       "  <tbody>\n",
       "    <tr>\n",
       "      <th>0</th>\n",
       "      <td>Logistic Regression</td>\n",
       "      <td>0.883838</td>\n",
       "    </tr>\n",
       "    <tr>\n",
       "      <th>1</th>\n",
       "      <td>KNN</td>\n",
       "      <td>0.848485</td>\n",
       "    </tr>\n",
       "    <tr>\n",
       "      <th>2</th>\n",
       "      <td>Random Forest</td>\n",
       "      <td>0.949495</td>\n",
       "    </tr>\n",
       "    <tr>\n",
       "      <th>3</th>\n",
       "      <td>SVM</td>\n",
       "      <td>0.883838</td>\n",
       "    </tr>\n",
       "  </tbody>\n",
       "</table>\n",
       "</div>"
      ],
      "text/plain": [
       "                 Model  Accuracy\n",
       "0  Logistic Regression  0.883838\n",
       "1                  KNN  0.848485\n",
       "2        Random Forest  0.949495\n",
       "3                  SVM  0.883838"
      ]
     },
     "execution_count": 50,
     "metadata": {},
     "output_type": "execute_result"
    }
   ],
   "source": [
    "# Lets try Logistic Regression, KNN, Random Forest, and SVM, and see which one performs the best\n",
    "from sklearn.linear_model import LogisticRegression\n",
    "from sklearn.neighbors import KNeighborsClassifier\n",
    "from sklearn.ensemble import RandomForestClassifier\n",
    "from sklearn.svm import SVC\n",
    "\n",
    "logmodel_rain_rain = LogisticRegression()\n",
    "knnmodel_rain = KNeighborsClassifier()\n",
    "rfmodel_rain = RandomForestClassifier()\n",
    "svmmodel_rain = SVC()\n",
    "\n",
    "results_rain = pd.DataFrame(columns=[\"Model\", \"Accuracy\"])\n",
    "\n",
    "logmodel_rain_rain.fit(X_train, y_train_rain)\n",
    "results_rain = results_rain.append({\"Model\": \"Logistic Regression\", \"Accuracy\": logmodel_rain_rain.score(X_val, y_val_rain)}, ignore_index=True)\n",
    "\n",
    "knnmodel_rain.fit(X_train, y_train_rain)\n",
    "results_rain = results_rain.append({\"Model\": \"KNN\", \"Accuracy\": knnmodel_rain.score(X_val, y_val_rain)}, ignore_index=True)\n",
    "\n",
    "rfmodel_rain.fit(X_train, y_train_rain)\n",
    "results_rain = results_rain.append({\"Model\": \"Random Forest\", \"Accuracy\": rfmodel_rain.score(X_val, y_val_rain)}, ignore_index=True)\n",
    "\n",
    "svmmodel_rain.fit(X_train, y_train_rain)\n",
    "results_rain = results_rain.append({\"Model\": \"SVM\", \"Accuracy\": svmmodel_rain.score(X_val, y_val_rain)}, ignore_index=True)\n",
    "\n",
    "results_rain"
   ]
  },
  {
   "cell_type": "code",
   "execution_count": 51,
   "metadata": {},
   "outputs": [
    {
     "data": {
      "text/html": [
       "<div>\n",
       "<style scoped>\n",
       "    .dataframe tbody tr th:only-of-type {\n",
       "        vertical-align: middle;\n",
       "    }\n",
       "\n",
       "    .dataframe tbody tr th {\n",
       "        vertical-align: top;\n",
       "    }\n",
       "\n",
       "    .dataframe thead th {\n",
       "        text-align: right;\n",
       "    }\n",
       "</style>\n",
       "<table border=\"1\" class=\"dataframe\">\n",
       "  <thead>\n",
       "    <tr style=\"text-align: right;\">\n",
       "      <th></th>\n",
       "      <th>Model</th>\n",
       "      <th>Accuracy</th>\n",
       "    </tr>\n",
       "  </thead>\n",
       "  <tbody>\n",
       "    <tr>\n",
       "      <th>0</th>\n",
       "      <td>Logistic Regression</td>\n",
       "      <td>0.989899</td>\n",
       "    </tr>\n",
       "    <tr>\n",
       "      <th>1</th>\n",
       "      <td>KNN</td>\n",
       "      <td>0.949495</td>\n",
       "    </tr>\n",
       "    <tr>\n",
       "      <th>2</th>\n",
       "      <td>Random Forest</td>\n",
       "      <td>1.000000</td>\n",
       "    </tr>\n",
       "    <tr>\n",
       "      <th>3</th>\n",
       "      <td>SVM</td>\n",
       "      <td>0.939394</td>\n",
       "    </tr>\n",
       "  </tbody>\n",
       "</table>\n",
       "</div>"
      ],
      "text/plain": [
       "                 Model  Accuracy\n",
       "0  Logistic Regression  0.989899\n",
       "1                  KNN  0.949495\n",
       "2        Random Forest  1.000000\n",
       "3                  SVM  0.939394"
      ]
     },
     "execution_count": 51,
     "metadata": {},
     "output_type": "execute_result"
    }
   ],
   "source": [
    "y_train_fog = y_train[\"Fog\"]\n",
    "y_val_fog = y_val[\"Fog\"]\n",
    "\n",
    "logmodel_rain_fog = LogisticRegression()\n",
    "knnmodel_fog = KNeighborsClassifier()\n",
    "rfmodel_fog = RandomForestClassifier()\n",
    "svmmodel_fog = SVC()\n",
    "\n",
    "results_fog = pd.DataFrame(columns=[\"Model\", \"Accuracy\"])\n",
    "\n",
    "logmodel_rain_fog.fit(X_train, y_train_fog)\n",
    "results_fog = results_fog.append({\"Model\": \"Logistic Regression\", \"Accuracy\": logmodel_rain_fog.score(X_val, y_val_fog)}, ignore_index=True)\n",
    "\n",
    "knnmodel_fog.fit(X_train, y_train_fog)\n",
    "results_fog = results_fog.append({\"Model\": \"KNN\", \"Accuracy\": knnmodel_fog.score(X_val, y_val_fog)}, ignore_index=True)\n",
    "\n",
    "rfmodel_fog.fit(X_train, y_train_fog)\n",
    "results_fog = results_fog.append({\"Model\": \"Random Forest\", \"Accuracy\": rfmodel_fog.score(X_val, y_val_fog)}, ignore_index=True)\n",
    "\n",
    "svmmodel_fog.fit(X_train, y_train_fog)\n",
    "results_fog = results_fog.append({\"Model\": \"SVM\", \"Accuracy\": svmmodel_fog.score(X_val, y_val_fog)}, ignore_index=True)\n",
    "\n",
    "results_fog"
   ]
  },
  {
   "cell_type": "code",
   "execution_count": 52,
   "metadata": {},
   "outputs": [
    {
     "data": {
      "text/html": [
       "<div>\n",
       "<style scoped>\n",
       "    .dataframe tbody tr th:only-of-type {\n",
       "        vertical-align: middle;\n",
       "    }\n",
       "\n",
       "    .dataframe tbody tr th {\n",
       "        vertical-align: top;\n",
       "    }\n",
       "\n",
       "    .dataframe thead th {\n",
       "        text-align: right;\n",
       "    }\n",
       "</style>\n",
       "<table border=\"1\" class=\"dataframe\">\n",
       "  <thead>\n",
       "    <tr style=\"text-align: right;\">\n",
       "      <th></th>\n",
       "      <th>Model</th>\n",
       "      <th>Accuracy</th>\n",
       "    </tr>\n",
       "  </thead>\n",
       "  <tbody>\n",
       "    <tr>\n",
       "      <th>0</th>\n",
       "      <td>Logistic Regression</td>\n",
       "      <td>0.904040</td>\n",
       "    </tr>\n",
       "    <tr>\n",
       "      <th>1</th>\n",
       "      <td>KNN</td>\n",
       "      <td>0.888889</td>\n",
       "    </tr>\n",
       "    <tr>\n",
       "      <th>2</th>\n",
       "      <td>Random Forest</td>\n",
       "      <td>0.893939</td>\n",
       "    </tr>\n",
       "    <tr>\n",
       "      <th>3</th>\n",
       "      <td>SVM</td>\n",
       "      <td>0.888889</td>\n",
       "    </tr>\n",
       "  </tbody>\n",
       "</table>\n",
       "</div>"
      ],
      "text/plain": [
       "                 Model  Accuracy\n",
       "0  Logistic Regression  0.904040\n",
       "1                  KNN  0.888889\n",
       "2        Random Forest  0.893939\n",
       "3                  SVM  0.888889"
      ]
     },
     "execution_count": 52,
     "metadata": {},
     "output_type": "execute_result"
    }
   ],
   "source": [
    "y_train_thunderstorm = y_train[\"Thunderstorm\"]\n",
    "y_val_thunderstorm = y_val[\"Thunderstorm\"]\n",
    "\n",
    "logmodel_rain_thunderstorm = LogisticRegression()\n",
    "knnmodel_thunderstorm = KNeighborsClassifier()\n",
    "rfmodel_thunderstorm = RandomForestClassifier()\n",
    "svmmodel_thunderstorm = SVC()\n",
    "\n",
    "results_thunderstorm = pd.DataFrame(columns=[\"Model\", \"Accuracy\"])\n",
    "\n",
    "logmodel_rain_thunderstorm.fit(X_train, y_train_thunderstorm)\n",
    "results_thunderstorm = results_thunderstorm.append({\"Model\": \"Logistic Regression\", \"Accuracy\": logmodel_rain_thunderstorm.score(X_val, y_val_thunderstorm)}, ignore_index=True)\n",
    "\n",
    "knnmodel_thunderstorm.fit(X_train, y_train_thunderstorm)\n",
    "results_thunderstorm = results_thunderstorm.append({\"Model\": \"KNN\", \"Accuracy\": knnmodel_thunderstorm.score(X_val, y_val_thunderstorm)}, ignore_index=True)\n",
    "\n",
    "rfmodel_thunderstorm.fit(X_train, y_train_thunderstorm)\n",
    "results_thunderstorm = results_thunderstorm.append({\"Model\": \"Random Forest\", \"Accuracy\": rfmodel_thunderstorm.score(X_val, y_val_thunderstorm)}, ignore_index=True)\n",
    "\n",
    "svmmodel_thunderstorm.fit(X_train, y_train_thunderstorm)\n",
    "results_thunderstorm = results_thunderstorm.append({\"Model\": \"SVM\", \"Accuracy\": svmmodel_thunderstorm.score(X_val, y_val_thunderstorm)}, ignore_index=True)\n",
    "\n",
    "results_thunderstorm"
   ]
  }
 ],
 "metadata": {
  "kernelspec": {
   "display_name": "Python 3.10.8 ('ML')",
   "language": "python",
   "name": "python3"
  },
  "language_info": {
   "codemirror_mode": {
    "name": "ipython",
    "version": 3
   },
   "file_extension": ".py",
   "mimetype": "text/x-python",
   "name": "python",
   "nbconvert_exporter": "python",
   "pygments_lexer": "ipython3",
   "version": "3.10.8"
  },
  "orig_nbformat": 4,
  "vscode": {
   "interpreter": {
    "hash": "cc94c6aa1ed96d8f00c7aba5dd2c6c1e3d17e1cef7dae2d745fdced555594009"
   }
  }
 },
 "nbformat": 4,
 "nbformat_minor": 2
}
