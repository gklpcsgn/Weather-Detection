{
 "cells": [
  {
   "cell_type": "code",
   "execution_count": 20,
   "metadata": {},
   "outputs": [],
   "source": [
    "import pandas as pd\n",
    "import numpy as np\n",
    "import warnings \n",
    "warnings.filterwarnings('ignore')\n",
    "warnings.simplefilter('ignore')\n",
    "warnings.warn('ignore')\n",
    "import matplotlib.pyplot as plt\n",
    "import seaborn as sns\n",
    "%matplotlib inline"
   ]
  },
  {
   "cell_type": "code",
   "execution_count": 21,
   "metadata": {},
   "outputs": [],
   "source": [
    "%run Preprocessing.py"
   ]
  },
  {
   "cell_type": "code",
   "execution_count": 22,
   "metadata": {},
   "outputs": [],
   "source": [
    "df = pd.read_csv(\"austin_weather.csv\")"
   ]
  },
  {
   "cell_type": "code",
   "execution_count": 23,
   "metadata": {},
   "outputs": [],
   "source": [
    "X_train, X_test, y_train, y_test, X_val, y_val = preprocess(df)"
   ]
  },
  {
   "cell_type": "code",
   "execution_count": 24,
   "metadata": {},
   "outputs": [],
   "source": [
    "# We will train for Rain first\n",
    "y_train_thunderstorm = y_train[\"Thunderstorm\"]\n",
    "y_val_thunderstorm = y_val[\"Thunderstorm\"]"
   ]
  },
  {
   "cell_type": "code",
   "execution_count": 25,
   "metadata": {},
   "outputs": [],
   "source": [
    "from sklearn.linear_model import LogisticRegression\n",
    "from sklearn.metrics import classification_report, confusion_matrix\n",
    "from sklearn.model_selection import GridSearchCV"
   ]
  },
  {
   "cell_type": "code",
   "execution_count": null,
   "metadata": {},
   "outputs": [],
   "source": [
    "params = {\n",
    "'C': [0.001, 0.01, 0.1, 1, 10, 100], \n",
    "'penalty': ['l1', 'l2', 'elasticnet', 'none'],\n",
    "'solver': ['newton-cg', 'lbfgs', 'liblinear'],\n",
    "'class_weight': ['auto'],\n",
    "'random_state' : [101] , \n",
    "'l1_ratio' : [None,0.25,0.5,0.75,1] ,\n",
    "'max_iter' : [100000] }\n",
    "\n",
    "logmodel = LogisticRegression()\n",
    "clf = GridSearchCV(logmodel, params, refit = True, verbose = 0, n_jobs=-1)\n",
    "clf.fit(X_train, y_train_thunderstorm)"
   ]
  },
  {
   "cell_type": "code",
   "execution_count": 27,
   "metadata": {},
   "outputs": [
    {
     "name": "stdout",
     "output_type": "stream",
     "text": [
      "              precision    recall  f1-score   support\n",
      "\n",
      "           0       0.91      0.99      0.94       165\n",
      "           1       0.89      0.48      0.63        33\n",
      "\n",
      "    accuracy                           0.90       198\n",
      "   macro avg       0.90      0.74      0.79       198\n",
      "weighted avg       0.90      0.90      0.89       198\n",
      "\n"
     ]
    }
   ],
   "source": [
    "print(classification_report(y_val_thunderstorm, clf.predict(X_val)))"
   ]
  },
  {
   "cell_type": "code",
   "execution_count": 29,
   "metadata": {},
   "outputs": [
    {
     "data": {
      "text/plain": [
       "<AxesSubplot: >"
      ]
     },
     "execution_count": 29,
     "metadata": {},
     "output_type": "execute_result"
    },
    {
     "data": {
      "image/png": "[encoded data removed]",
      "text/plain": [
       "<Figure size 640x480 with 2 Axes>"
      ]
     },
     "metadata": {},
     "output_type": "display_data"
    }
   ],
   "source": [
    "cm = confusion_matrix(y_val_thunderstorm, clf.predict(X_val))\n",
    "sns.heatmap(cm, annot=True, fmt=\"d\")"
   ]
  },
  {
   "cell_type": "code",
   "execution_count": 30,
   "metadata": {},
   "outputs": [
    {
     "data": {
      "text/plain": [
       "{'C': 1,\n",
       " 'class_weight': 'auto',\n",
       " 'l1_ratio': None,\n",
       " 'max_iter': 100000,\n",
       " 'penalty': 'l2',\n",
       " 'random_state': 101,\n",
       " 'solver': 'newton-cg'}"
      ]
     },
     "execution_count": 30,
     "metadata": {},
     "output_type": "execute_result"
    }
   ],
   "source": [
    "clf.best_params_"
   ]
  },
  {
   "cell_type": "code",
   "execution_count": null,
   "metadata": {},
   "outputs": [],
   "source": []
  }
 ],
 "metadata": {
  "kernelspec": {
   "display_name": "Python 3.10.8 ('ML')",
   "language": "python",
   "name": "python3"
  },
  "language_info": {
   "codemirror_mode": {
    "name": "ipython",
    "version": 3
   },
   "file_extension": ".py",
   "mimetype": "text/x-python",
   "name": "python",
   "nbconvert_exporter": "python",
   "pygments_lexer": "ipython3",
   "version": "3.10.8"
  },
  "orig_nbformat": 4,
  "vscode": {
   "interpreter": {
    "hash": "cc94c6aa1ed96d8f00c7aba5dd2c6c1e3d17e1cef7dae2d745fdced555594009"
   }
  }
 },
 "nbformat": 4,
 "nbformat_minor": 2
}
