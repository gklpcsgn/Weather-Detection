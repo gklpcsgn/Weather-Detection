{
 "cells": [
  {
   "cell_type": "code",
   "execution_count": 2,
   "metadata": {},
   "outputs": [],
   "source": [
    "import pandas as pd\n",
    "import numpy as np"
   ]
  },
  {
   "cell_type": "code",
   "execution_count": 3,
   "metadata": {},
   "outputs": [],
   "source": [
    "df = pd.read_csv('../Data/austin_weather.csv')"
   ]
  },
  {
   "cell_type": "code",
   "execution_count": 10,
   "metadata": {},
   "outputs": [],
   "source": [
    "df[\"PrecipitationSumInches\"] = df[\"PrecipitationSumInches\"].replace(\"T\", 0.00)\n",
    "df.replace('-', np.nan, inplace=True)\n",
    "cols = df.columns.drop(['Date', 'Events'])\n",
    "df[cols] = df[cols].apply(pd.to_numeric, errors='coerce', axis=1)\n",
    "df[\"Date\"] = pd.to_datetime(df[\"Date\"])\n",
    "df[\"Day\"] = df[\"Date\"].dt.day\n",
    "df[\"Month\"] = df[\"Date\"].dt.month\n",
    "df[\"Year\"] = df[\"Date\"].dt.year\n",
    "\n",
    "nan_cols = df.columns.drop(['Date', 'Events', 'Day', 'Month', 'Year','TempHighF', 'TempAvgF', 'TempLowF','PrecipitationSumInches'])\n",
    "\n",
    "for col in nan_cols:\n",
    "    df[col] = df.groupby('Month')[col].transform(lambda x: x.fillna(x.mean()))\n",
    "df.drop(['Day','Month', 'Year'], axis=1, inplace=True)\n",
    "\n",
    "# drop rain,foog,thunderstorm\n",
    "df.drop(['Events'], axis=1, inplace=True)"
   ]
  },
  {
   "cell_type": "code",
   "execution_count": 11,
   "metadata": {},
   "outputs": [
    {
     "name": "stdout",
     "output_type": "stream",
     "text": [
      "Date 2013-12-21 00:00:00 2015-10-11 00:00:00 2017-07-31 00:00:00\n",
      "TempHighF 32.0 80.86277482941622 107.0\n",
      "TempAvgF 29.0 70.6429112964367 93.0\n",
      "TempLowF 19.0 59.902956785443514 81.0\n",
      "DewPointHighF 13.0 61.57676226329595 80.0\n",
      "DewPointAvgF 8.0 56.70410621073087 76.0\n",
      "DewPointLowF 2.0 51.01384103247846 75.0\n",
      "HumidityHighPercent 37.0 87.87524171748008 100.0\n",
      "HumidityAvgPercent 27.0 66.67266314839216 97.0\n",
      "HumidityLowPercent 10.0 44.95763486526562 93.0\n",
      "SeaLevelPressureHighInches 29.63 30.11198635329795 30.83\n",
      "SeaLevelPressureAvgInches 29.55 30.022728834975993 30.74\n",
      "SeaLevelPressureLowInches 29.41 29.93175082132929 30.61\n",
      "VisibilityHighMiles 5.0 9.991623062677885 10.0\n",
      "VisibilityAvgMiles 2.0 9.165003568011661 10.0\n",
      "VisibilityLowMiles 0.0 6.845985242821058 10.0\n",
      "WindHighMPH 6.0 13.230469303251715 29.0\n",
      "WindAvgMPH 1.0 5.007773121495639 12.0\n",
      "WindGustMPH 9.0 21.369123007903642 57.0\n",
      "PrecipitationSumInches 0.0 0.11439727065959061 5.2\n"
     ]
    }
   ],
   "source": [
    "# print each columns min and max values\n",
    "for col in df.columns:\n",
    "    print(col, df[col].min(),df[col].mean() ,df[col].max())"
   ]
  },
  {
   "cell_type": "code",
   "execution_count": null,
   "metadata": {},
   "outputs": [],
   "source": []
  }
 ],
 "metadata": {
  "kernelspec": {
   "display_name": "ML",
   "language": "python",
   "name": "python3"
  },
  "language_info": {
   "codemirror_mode": {
    "name": "ipython",
    "version": 3
   },
   "file_extension": ".py",
   "mimetype": "text/x-python",
   "name": "python",
   "nbconvert_exporter": "python",
   "pygments_lexer": "ipython3",
   "version": "3.10.8"
  },
  "orig_nbformat": 4,
  "vscode": {
   "interpreter": {
    "hash": "cc94c6aa1ed96d8f00c7aba5dd2c6c1e3d17e1cef7dae2d745fdced555594009"
   }
  }
 },
 "nbformat": 4,
 "nbformat_minor": 2
}
