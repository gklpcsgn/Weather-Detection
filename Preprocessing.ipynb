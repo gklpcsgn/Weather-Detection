{
 "cells": [
  {
   "cell_type": "code",
   "execution_count": 2,
   "metadata": {},
   "outputs": [],
   "source": [
    "import pandas as pd\n",
    "import numpy as np\n",
    "import matplotlib.pyplot as plt\n",
    "import seaborn as sns\n",
    "import warnings\n",
    "warnings.filterwarnings('ignore')\n",
    "%matplotlib inline"
   ]
  },
  {
   "cell_type": "code",
   "execution_count": 3,
   "metadata": {},
   "outputs": [],
   "source": [
    "df = pd.read_csv('austin_weather.csv')"
   ]
  },
  {
   "cell_type": "code",
   "execution_count": 4,
   "metadata": {},
   "outputs": [],
   "source": [
    "df[\"PrecipitationSumInches\"] = df[\"PrecipitationSumInches\"].replace(\"T\", 0.00)\n",
    "df.replace('-', np.nan, inplace=True)\n",
    "cols = df.columns.drop(['Date', 'Events'])\n",
    "df[cols] = df[cols].apply(pd.to_numeric, errors='coerce', axis=1)"
   ]
  },
  {
   "cell_type": "code",
   "execution_count": 5,
   "metadata": {},
   "outputs": [],
   "source": [
    "df[\"Date\"] = pd.to_datetime(df[\"Date\"])\n",
    "df[\"Day\"] = df[\"Date\"].dt.day\n",
    "df[\"Month\"] = df[\"Date\"].dt.month\n",
    "df[\"Year\"] = df[\"Date\"].dt.year\n",
    "nan_cols = df.columns.drop(['Date', 'Events', 'Day', 'Month', 'Year','TempHighF', 'TempAvgF', 'TempLowF','PrecipitationSumInches'])\n",
    "for col in nan_cols:\n",
    "    df[col] = df.groupby('Month')[col].transform(lambda x: x.fillna(x.mean()))\n",
    "df.drop(['Day','Month', 'Year'], axis=1, inplace=True)"
   ]
  },
  {
   "cell_type": "code",
   "execution_count": 6,
   "metadata": {},
   "outputs": [],
   "source": [
    "df[\"Rain\"] = df[\"Events\"].apply(lambda x: 1 if \"Rain\" in str(x) else 0)\n",
    "df[\"Fog\"] = df[\"Events\"].apply(lambda x: 1 if \"Fog\" in str(x) else 0)\n",
    "df[\"Thunderstorm\"] = df[\"Events\"].apply(lambda x: 1 if \"Thunderstorm\" in str(x) else 0)\n",
    "\n",
    "df.drop(\"Events\", axis=1, inplace=True)\n",
    "df = df.drop(\"Date\", axis=1)"
   ]
  },
  {
   "cell_type": "code",
   "execution_count": 7,
   "metadata": {},
   "outputs": [],
   "source": [
    "# Train test split\n",
    "from sklearn.model_selection import train_test_split\n",
    "X = df.drop([\"Rain\",\"Fog\",\"Thunderstorm\"], axis=1)\n",
    "y = df[[\"Rain\",\"Fog\",\"Thunderstorm\"]]\n",
    "X_train, X_test, y_train, y_test = train_test_split(X, y, test_size=0.2, random_state=101)"
   ]
  },
  {
   "cell_type": "code",
   "execution_count": null,
   "metadata": {},
   "outputs": [],
   "source": [
    "# Scale the data\n",
    "from sklearn.preprocessing import StandardScaler\n",
    "scaler = StandardScaler()\n",
    "scaler.fit(X_train)\n",
    "X_train = scaler.transform(X_train)\n",
    "X_test = scaler.transform(X_test)\n"
   ]
  }
 ],
 "metadata": {
  "kernelspec": {
   "display_name": "Python 3.9.13 ('base')",
   "language": "python",
   "name": "python3"
  },
  "language_info": {
   "codemirror_mode": {
    "name": "ipython",
    "version": 3
   },
   "file_extension": ".py",
   "mimetype": "text/x-python",
   "name": "python",
   "nbconvert_exporter": "python",
   "pygments_lexer": "ipython3",
   "version": "3.9.13"
  },
  "orig_nbformat": 4,
  "vscode": {
   "interpreter": {
    "hash": "165a98e4a3d64d0ea287c81715b2db34109bcd82d57c0cd41cea420fbe8d6ed7"
   }
  }
 },
 "nbformat": 4,
 "nbformat_minor": 2
}
